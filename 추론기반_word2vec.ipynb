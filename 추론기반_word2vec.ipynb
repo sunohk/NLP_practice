{
 "cells": [
  {
   "attachments": {},
   "cell_type": "markdown",
   "metadata": {},
   "source": [
    "### 추론기반 기법\n",
    "- 통계기반 기법 : 동시발생 행렬, PPMI, SVD(특잇값 분해) 사용 / 학습 데이터를 한꺼번에 처리 / 대용량 데이터 처리에 부적합\n",
    "- 추론기반 기법 : word2vec 사용 / 학습 데이터의 일부를 순차적 학습 / 대용량 데이터 처리 적합, GPU 활용 병렬처리로 학습 속도 개선 가능"
   ]
  },
  {
   "cell_type": "code",
   "execution_count": 1,
   "metadata": {},
   "outputs": [
    {
     "name": "stdout",
     "output_type": "stream",
     "text": [
      "[[ 0.82216235  1.19111852 -0.0130895 ]]\n"
     ]
    }
   ],
   "source": [
    "#완전연결계층에 의한 변환\n",
    "\n",
    "import numpy as np\n",
    "\n",
    "c = np.array([[1,0,0,0,0,0,0]]) #입력층\n",
    "W = np.random.randn(7,3) #가중치\n",
    "h = np.matmul(c,W)\n",
    "print(h)"
   ]
  },
  {
   "cell_type": "code",
   "execution_count": 6,
   "metadata": {},
   "outputs": [
    {
     "name": "stdout",
     "output_type": "stream",
     "text": [
      "[[-0.4153813  -0.18569358  0.98859295]]\n"
     ]
    }
   ],
   "source": [
    "# MatMul(행렬곱) 계층 ver\n",
    "\n",
    "import sys\n",
    "sys.path.append('..')\n",
    "import numpy as np\n",
    "from common.layers import MatMul\n",
    "\n",
    "c = np.array([[1,0,0,0,0,0,0]]) #입력층\n",
    "W = np.random.randn(7,3) #가중치 #평균 0, 표준편차 1의 가우시안 표준정규분포 난수를 matrix array(m,n)으로 생성성\n",
    "layer = MatMul(W)\n",
    "h = layer.forward(c) #순전파 수행 = 신경망에서 입력 데이터가 입력층을 통과하여 순차적으로 각 레이어를 거쳐 출력층까지 전달\n",
    "print(h)"
   ]
  },
  {
   "attachments": {},
   "cell_type": "markdown",
   "metadata": {},
   "source": [
    "#### 모델 구축(CBOW)\n",
    "- CBOW(continuos bag-of-words) : word2vec에서 사용되는 신경망, 맥락(주변 단어 = 입력)으로부터 타겟(중앙 단어 = 출력)을 추측"
   ]
  },
  {
   "cell_type": "code",
   "execution_count": 7,
   "metadata": {},
   "outputs": [
    {
     "name": "stdout",
     "output_type": "stream",
     "text": [
      "[[-2.42249949 -1.82801057  0.03054774 -0.3114692   0.46248026  0.72891645\n",
      "  -0.46695901]]\n"
     ]
    }
   ],
   "source": [
    "#cbow 추론 처리(점수를 구하는 처리)\n",
    "\n",
    "import sys\n",
    "sys.path.append('..')\n",
    "import numpy as np\n",
    "from common.layers import MatMul\n",
    "\n",
    "#샘플 맥락 데이터(입력층 2개 = 고려할 단어 수 2개)\n",
    "c0 = np.array([[1,0,0,0,0,0,0]])\n",
    "c1 = np.array([[0,0,1,0,0,0,0]])\n",
    "\n",
    "#가중치 초기화\n",
    "W_in = np.random.randn(7,3)\n",
    "W_out = np.random.randn(3,7)\n",
    "\n",
    "#계층 생성\n",
    "in_layer0 = MatMul(W_in)\n",
    "in_layer1 = MatMul(W_in) #두 입력값을 함께 고려하여 하나의 은닉층 h를 만들기 위해서는, 두 입력값을 처리하는 과정에서 동일한 단어 표현(가중치)을 공유해야 함\n",
    "out_layer = MatMul(W_out)\n",
    "\n",
    "#순전파\n",
    "h0 = in_layer0.forward(c0) # 중간 데이터 계산\n",
    "h1 = in_layer1.forward(c1)\n",
    "h = 0.5 * (h0+h1) #은닉층\n",
    "s = out_layer.forward(h) #점수 계산\n",
    "\n",
    "print(s)"
   ]
  },
  {
   "cell_type": "code",
   "execution_count": 8,
   "metadata": {},
   "outputs": [
    {
     "name": "stdout",
     "output_type": "stream",
     "text": [
      "[0 1 2 3 4 1 5 6]\n",
      "{0: 'you', 1: 'say', 2: 'goodbye', 3: 'and', 4: 'i', 5: 'hello', 6: '.'}\n"
     ]
    }
   ],
   "source": [
    "# 전처리(벡터화)\n",
    "\n",
    "import sys\n",
    "sys.path.append('..')\n",
    "from common.util import preprocess\n",
    "\n",
    "text = 'You say goodbye and I say hello.'\n",
    "corpus, word_to_id, id_to_word = preprocess(text)\n",
    "print(corpus)\n",
    "print(id_to_word)"
   ]
  },
  {
   "cell_type": "code",
   "execution_count": 9,
   "metadata": {},
   "outputs": [],
   "source": [
    "#맥락, 타깃 생성 함수 정의\n",
    "\n",
    "def create_contexts_target(corpus, window_size=1):\n",
    "    target = corpus[window_size:-window_size]\n",
    "    contexts = []\n",
    "\n",
    "    for idx in range(window_size, len(corpus) - window_size):\n",
    "        cs = [] # 각 단어의 맥락을 담을 리스트\n",
    "        for t in range(-window_size, window_size + 1):\n",
    "            if t ==0: \n",
    "                continue # 타겟 단어는 맥락에 포함하지 않음\n",
    "            cs.append(corpus[idx+t]) # 맥락에 해당하는 단어를 추가\n",
    "        contexts.append(cs) # 해당 단어의 맥락 리스트를 전체 맥락에 추가\n",
    "\n",
    "    return np.array(contexts), np.arrary(target)\n"
   ]
  },
  {
   "cell_type": "code",
   "execution_count": 10,
   "metadata": {},
   "outputs": [],
   "source": [
    "#원핫 표현으로 변환\n",
    "\n",
    "import sys\n",
    "sys.path.append('..')\n",
    "from common.util import preprocess, create_contexts_target, convert_one_hot\n",
    "\n",
    "text = 'You say goodbye and I say hello.'\n",
    "corpus, word_to_id, id_to_word = preprocess(text)\n",
    "\n",
    "contexts, target = create_contexts_target(corpus, window_size=1)\n",
    "\n",
    "vocab_size = len(word_to_id)\n",
    "target = convert_one_hot(target, vocab_size)\n",
    "contexts = convert_one_hot(contexts, vocab_size)"
   ]
  },
  {
   "cell_type": "code",
   "execution_count": null,
   "metadata": {},
   "outputs": [],
   "source": []
  },
  {
   "cell_type": "code",
   "execution_count": null,
   "metadata": {},
   "outputs": [],
   "source": []
  },
  {
   "cell_type": "code",
   "execution_count": null,
   "metadata": {},
   "outputs": [],
   "source": []
  },
  {
   "cell_type": "code",
   "execution_count": null,
   "metadata": {},
   "outputs": [],
   "source": []
  }
 ],
 "metadata": {
  "kernelspec": {
   "display_name": "base",
   "language": "python",
   "name": "python3"
  },
  "language_info": {
   "codemirror_mode": {
    "name": "ipython",
    "version": 3
   },
   "file_extension": ".py",
   "mimetype": "text/x-python",
   "name": "python",
   "nbconvert_exporter": "python",
   "pygments_lexer": "ipython3",
   "version": "3.10.11"
  },
  "orig_nbformat": 4
 },
 "nbformat": 4,
 "nbformat_minor": 2
}
