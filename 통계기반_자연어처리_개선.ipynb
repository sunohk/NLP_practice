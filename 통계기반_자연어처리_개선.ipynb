{
 "cells": [
  {
   "attachments": {},
   "cell_type": "markdown",
   "metadata": {},
   "source": [
    "### 양의 상호정보량(PPMI) 활용\n",
    "- Positive PMI(Pointwise Mutual Inoformation)\n",
    "- 값이 높을수록 연관도가 높다"
   ]
  },
  {
   "cell_type": "code",
   "execution_count": 1,
   "metadata": {},
   "outputs": [],
   "source": [
    "import numpy as np\n",
    "\n",
    "def ppmi(C,verbose=False, eps=1e-8): #C : 동시발생 행렬\n",
    "    M = np.zeros_like(C, dtype=np.float32) #PPMI 행렬\n",
    "    N = np.sum(C) # 전체 동시 발생 횟수\n",
    "    S = np.sum(C, axis=0) #C 행렬의 각 열에 대한 요소들의 합(열별 각 단어의 총 출현 빈도)\n",
    "    total = C.shape[0] * C.shape[1] # 행렬의 전체 원소 개수를 계산\n",
    "    cnt = 0\n",
    "\n",
    "    for i in range(C.shape[0]):\n",
    "        for j in range(C.shape[1]):\n",
    "            pmi = np.log2(C[i,j]*N / (S[j]*S[i]) + eps) #log2를 통해 정보의 양을 비트로 표현\n",
    "            M[i,j] = max(0, pmi)\n",
    "\n",
    "            if verbose:\n",
    "                cnt += 1\n",
    "                if cnt % (total//100)==0:\n",
    "                    print('%.1f%% 완료' % (100*cnt/total))\n",
    "\n",
    "    return M"
   ]
  },
  {
   "cell_type": "code",
   "execution_count": 3,
   "metadata": {},
   "outputs": [
    {
     "name": "stdout",
     "output_type": "stream",
     "text": [
      "동시발생 행렬\n",
      "[[0 1 0 0 0 0 0]\n",
      " [1 0 1 0 1 1 0]\n",
      " [0 1 0 1 0 0 0]\n",
      " [0 0 1 0 1 0 0]\n",
      " [0 1 0 1 0 0 0]\n",
      " [0 1 0 0 0 0 1]\n",
      " [0 0 0 0 0 1 0]]\n",
      "--------------------------------------------------\n",
      "PPMI\n",
      "[[0.    1.807 0.    0.    0.    0.    0.   ]\n",
      " [1.807 0.    0.807 0.    0.807 0.807 0.   ]\n",
      " [0.    0.807 0.    1.807 0.    0.    0.   ]\n",
      " [0.    0.    1.807 0.    1.807 0.    0.   ]\n",
      " [0.    0.807 0.    1.807 0.    0.    0.   ]\n",
      " [0.    0.807 0.    0.    0.    0.    2.807]\n",
      " [0.    0.    0.    0.    0.    2.807 0.   ]]\n"
     ]
    }
   ],
   "source": [
    "# 동시발생 행렬을 PPMI 행렬로 변환\n",
    "\n",
    "import sys\n",
    "sys.path.append('..') #상위 디렉토리에 있는 모듈을 현재 스크립트에서 불러와 사용하려는 경우, 상위 디렉토리를 시스템 경로에 추가함으로써 파이썬 인터프리터에게 해당 디렉토리를 검색하도록 지시\n",
    "import numpy as np\n",
    "from common.util import preprocess, create_co_matrix, cos_similarity, ppmi\n",
    "\n",
    "text = 'You say goodbye and I say hello.'\n",
    "corpus, word_to_id, id_to_word = preprocess(text)\n",
    "vocab_size = len(word_to_id)\n",
    "C = create_co_matrix(corpus, vocab_size)\n",
    "W = ppmi(C)\n",
    "\n",
    "np.set_printoptions(precision=3) #유효 자릿수를 세자리로 표시\n",
    "print('동시발생 행렬')\n",
    "print(C)\n",
    "print('-'*50)\n",
    "print('PPMI')\n",
    "print(W)"
   ]
  },
  {
   "attachments": {},
   "cell_type": "markdown",
   "metadata": {},
   "source": [
    "PPMI 방식은 어휘수 증가에 따라 벡터 차원수도 함께 증가함 & 원소 대부분이 0인 희소행렬 = 원소의 중요도가 낮다 = 노이즈에 약하고 견고하지 못하다\n",
    "\n",
    "개선된 방법 : 벡터의 차원감소"
   ]
  },
  {
   "attachments": {},
   "cell_type": "markdown",
   "metadata": {},
   "source": [
    "### 차원감소 활용\n",
    "- dimensionality reduction\n",
    "- 중요한 정보는 최대한 유지하면서 차원 감소시킴\n",
    "- 데이터의 분포를 고려해 중요한 축을 찾음(2차원 데이터를 1차원으로 표현하는 = 데이터를 넓게 분포시키는 축 찾기) \n",
    "- 희소행렬(희소벡터) -> 밀집행렬(밀집벡터)"
   ]
  },
  {
   "cell_type": "code",
   "execution_count": 4,
   "metadata": {},
   "outputs": [
    {
     "name": "stdout",
     "output_type": "stream",
     "text": [
      "[0 1 0 0 0 0 0]\n",
      "[0.    1.807 0.    0.    0.    0.    0.   ]\n",
      "[-3.409e-01 -1.110e-16 -3.886e-16 -1.205e-01  0.000e+00  9.323e-01\n",
      "  2.226e-16]\n"
     ]
    }
   ],
   "source": [
    "# SVD(특잇값분해) 활용 - 임의의 행렬을 세 행렬의 곱으로 분해\n",
    "\n",
    "import sys\n",
    "sys.path.append('..')\n",
    "import numpy as np\n",
    "import matplotlib.pyplot as plt\n",
    "from common.util import preprocess, create_co_matrix, ppmi\n",
    "\n",
    "text = 'You say goodbye and I say hello.'\n",
    "corpus, word_to_id, id_to_word = preprocess(text)\n",
    "vocab_size = len(word_to_id)\n",
    "C = create_co_matrix(corpus, vocab_size)\n",
    "W = ppmi(C)\n",
    "\n",
    "U,S,V = np.linalg.svd(W) #linalg = 선형대수\n",
    "\n",
    "print(C[0]) #동시발생 행렬\n",
    "print(W[0]) #PPMI 행렬\n",
    "print(U[0]) #SVD"
   ]
  },
  {
   "cell_type": "code",
   "execution_count": 5,
   "metadata": {},
   "outputs": [
    {
     "name": "stdout",
     "output_type": "stream",
     "text": [
      "[-3.409e-01 -1.110e-16]\n"
     ]
    }
   ],
   "source": [
    "print(U[0, :2]) #밀집벡터 차원 감소(2차원)"
   ]
  },
  {
   "cell_type": "code",
   "execution_count": 8,
   "metadata": {},
   "outputs": [
    {
     "data": {
      "image/png": "[encoded data removed]",
      "text/plain": [
       "<Figure size 640x480 with 1 Axes>"
      ]
     },
     "metadata": {},
     "output_type": "display_data"
    }
   ],
   "source": [
    "# 그래프\n",
    "\n",
    "for word, word_id in word_to_id.items():\n",
    "    plt.annotate(word, (U[word_id, 0], U[word_id,1])) #annotate = 주석표기(2차원 그래프 상에서 좌표 지점 word에 담긴 텍스트 표시)\n",
    "\n",
    "plt.scatter(U[:,0], U[:,1], alpha=0.8) #alpha = 투명도\n",
    "plt.show()"
   ]
  },
  {
   "attachments": {},
   "cell_type": "markdown",
   "metadata": {},
   "source": [
    "### PTB 데이터셋 활용 대량의 말뭉치 사용\n",
    "- Penn Treebank"
   ]
  },
  {
   "cell_type": "code",
   "execution_count": 10,
   "metadata": {},
   "outputs": [
    {
     "name": "stdout",
     "output_type": "stream",
     "text": [
      "Downloading ptb.train.txt ... \n",
      "Done\n",
      "말뭉치 크기 :  929589\n",
      "corpus[:30] :  [ 0  1  2  3  4  5  6  7  8  9 10 11 12 13 14 15 16 17 18 19 20 21 22 23\n",
      " 24 25 26 27 28 29]\n",
      "\n",
      "id_to_word[0] :  aer\n",
      "id_to_word[1] :  banknote\n",
      "id_to_word[2] :  berlitz\n",
      "\n",
      "word_to_id['car'] :  3856\n",
      "word_to_id['happy'] :  4428\n",
      "word_to_id['lexus'] :  7426\n"
     ]
    }
   ],
   "source": [
    "import sys\n",
    "sys.path.append('..')\n",
    "from dataset import ptb\n",
    "\n",
    "corpus, word_to_id, id_to_word = ptb.load_data('train')\n",
    "\n",
    "print('말뭉치 크기 : ', len(corpus))\n",
    "print('corpus[:30] : ', corpus[:30])\n",
    "print()\n",
    "print('id_to_word[0] : ', id_to_word[0])\n",
    "print('id_to_word[1] : ', id_to_word[1])\n",
    "print('id_to_word[2] : ', id_to_word[2])\n",
    "print()\n",
    "print(\"word_to_id['car'] : \", word_to_id['car'])\n",
    "print(\"word_to_id['happy'] : \", word_to_id['happy'])\n",
    "print(\"word_to_id['lexus'] : \", word_to_id['lexus'])"
   ]
  },
  {
   "attachments": {},
   "cell_type": "markdown",
   "metadata": {},
   "source": [
    "### PTP 데이터셋 평가(고속 SVD 활용)"
   ]
  },
  {
   "cell_type": "code",
   "execution_count": 11,
   "metadata": {},
   "outputs": [
    {
     "name": "stdout",
     "output_type": "stream",
     "text": [
      "동시발생 수 계산\n",
      "PPMI 계산\n"
     ]
    },
    {
     "name": "stderr",
     "output_type": "stream",
     "text": [
      "c:\\visual studio code\\practice\\NLP_practice\\common\\util.py:141: RuntimeWarning: overflow encountered in scalar multiply\n",
      "  pmi = np.log2(C[i, j] * N / (S[j]*S[i]) + eps)\n",
      "c:\\visual studio code\\practice\\NLP_practice\\common\\util.py:141: RuntimeWarning: invalid value encountered in log2\n",
      "  pmi = np.log2(C[i, j] * N / (S[j]*S[i]) + eps)\n"
     ]
    },
    {
     "name": "stdout",
     "output_type": "stream",
     "text": [
      "1.0% 완료\n",
      "2.0% 완료\n",
      "3.0% 완료\n",
      "4.0% 완료\n",
      "5.0% 완료\n",
      "6.0% 완료\n",
      "7.0% 완료\n",
      "8.0% 완료\n",
      "9.0% 완료\n",
      "10.0% 완료\n",
      "11.0% 완료\n",
      "12.0% 완료\n",
      "13.0% 완료\n",
      "14.0% 완료\n",
      "15.0% 완료\n",
      "16.0% 완료\n",
      "17.0% 완료\n",
      "18.0% 완료\n",
      "19.0% 완료\n",
      "20.0% 완료\n",
      "21.0% 완료\n",
      "22.0% 완료\n",
      "23.0% 완료\n",
      "24.0% 완료\n",
      "25.0% 완료\n",
      "26.0% 완료\n",
      "27.0% 완료\n",
      "28.0% 완료\n",
      "29.0% 완료\n",
      "30.0% 완료\n",
      "31.0% 완료\n",
      "32.0% 완료\n",
      "33.0% 완료\n",
      "34.0% 완료\n",
      "35.0% 완료\n",
      "36.0% 완료\n",
      "37.0% 완료\n",
      "38.0% 완료\n",
      "39.0% 완료\n",
      "40.0% 완료\n",
      "41.0% 완료\n",
      "42.0% 완료\n",
      "43.0% 완료\n",
      "44.0% 완료\n",
      "45.0% 완료\n",
      "46.0% 완료\n",
      "47.0% 완료\n",
      "48.0% 완료\n",
      "49.0% 완료\n",
      "50.0% 완료\n",
      "51.0% 완료\n",
      "52.0% 완료\n",
      "53.0% 완료\n",
      "54.0% 완료\n",
      "55.0% 완료\n",
      "56.0% 완료\n",
      "57.0% 완료\n",
      "58.0% 완료\n",
      "59.0% 완료\n",
      "60.0% 완료\n",
      "61.0% 완료\n",
      "62.0% 완료\n",
      "63.0% 완료\n",
      "64.0% 완료\n",
      "65.0% 완료\n",
      "66.0% 완료\n",
      "67.0% 완료\n",
      "68.0% 완료\n",
      "69.0% 완료\n",
      "70.0% 완료\n",
      "71.0% 완료\n",
      "72.0% 완료\n",
      "73.0% 완료\n",
      "74.0% 완료\n",
      "75.0% 완료\n",
      "76.0% 완료\n",
      "77.0% 완료\n",
      "78.0% 완료\n",
      "79.0% 완료\n",
      "80.0% 완료\n",
      "81.0% 완료\n",
      "82.0% 완료\n",
      "83.0% 완료\n",
      "84.0% 완료\n",
      "85.0% 완료\n",
      "86.0% 완료\n",
      "87.0% 완료\n",
      "88.0% 완료\n",
      "89.0% 완료\n",
      "90.0% 완료\n",
      "91.0% 완료\n",
      "92.0% 완료\n",
      "93.0% 완료\n",
      "94.0% 완료\n",
      "95.0% 완료\n",
      "96.0% 완료\n",
      "97.0% 완료\n",
      "98.0% 완료\n",
      "99.0% 완료\n",
      "SVD 계산\n",
      "\n",
      "[query] you\n",
      " i: 0.6864032745361328\n",
      " we: 0.5908561944961548\n",
      " do: 0.564051628112793\n",
      " anybody: 0.5243093967437744\n",
      " else: 0.5085659027099609\n",
      "\n",
      "[query] year\n",
      " last: 0.650770366191864\n",
      " month: 0.6469738483428955\n",
      " quarter: 0.6380659341812134\n",
      " next: 0.6296625137329102\n",
      " earlier: 0.6286802291870117\n",
      "\n",
      "[query] car\n",
      " luxury: 0.6611968278884888\n",
      " auto: 0.6289705038070679\n",
      " cars: 0.5343168377876282\n",
      " corsica: 0.4419335424900055\n",
      " truck: 0.4378874897956848\n",
      "\n",
      "[query] toyota\n",
      " motors: 0.7101207971572876\n",
      " motor: 0.6954019665718079\n",
      " nissan: 0.6846928596496582\n",
      " lexus: 0.6634080410003662\n",
      " mazda: 0.6266517639160156\n"
     ]
    }
   ],
   "source": [
    "import sys\n",
    "sys.path.append('..')\n",
    "import numpy as np\n",
    "import matplotlib.pyplot as plt\n",
    "from common.util import most_similar, create_co_matrix, ppmi\n",
    "from dataset import ptb\n",
    "\n",
    "window_size = 2\n",
    "wordvec_size = 100\n",
    "\n",
    "corpus, word_to_id, id_to_word = ptb.load_data('train')\n",
    "vocab_size = len(word_to_id)\n",
    "print('동시발생 수 계산')\n",
    "C = create_co_matrix(corpus, vocab_size, window_size)\n",
    "\n",
    "print('PPMI 계산')\n",
    "W = ppmi(C,verbose=True)\n",
    "\n",
    "print('SVD 계산')\n",
    "try :\n",
    "    #truncated SVD(고속 SVD = 특이값이 작은 것은 버리는 방식으로 성능 향상을 꾀함)\n",
    "    from sklearn.utils.extmath import randomized_svd\n",
    "    U,S,V = randomized_svd(W, n_components=wordvec_size, n_iter=5, random_state=None) #무작위 수를 활용한 Truncated SVD(특이값이 큰 것들만 계산하여 속도가 빠름) = 결과 매번 다름\n",
    "\n",
    "except ImportError:\n",
    "    #svd(속도가 느림)\n",
    "    U,S,V = np.linalg.svd(W)\n",
    "\n",
    "word_vecs = U[:, :wordvec_size]\n",
    "\n",
    "querys = ['you', 'year', 'car', 'toyota']\n",
    "for query in querys:\n",
    "    most_similar(query, word_to_id, id_to_word, word_vecs, top=5) #유사 단어 검색\n"
   ]
  },
  {
   "cell_type": "code",
   "execution_count": null,
   "metadata": {},
   "outputs": [],
   "source": []
  },
  {
   "cell_type": "code",
   "execution_count": null,
   "metadata": {},
   "outputs": [],
   "source": []
  },
  {
   "cell_type": "code",
   "execution_count": null,
   "metadata": {},
   "outputs": [],
   "source": []
  },
  {
   "cell_type": "code",
   "execution_count": null,
   "metadata": {},
   "outputs": [],
   "source": []
  }
 ],
 "metadata": {
  "kernelspec": {
   "display_name": "base",
   "language": "python",
   "name": "python3"
  },
  "language_info": {
   "codemirror_mode": {
    "name": "ipython",
    "version": 3
   },
   "file_extension": ".py",
   "mimetype": "text/x-python",
   "name": "python",
   "nbconvert_exporter": "python",
   "pygments_lexer": "ipython3",
   "version": "3.10.11"
  },
  "orig_nbformat": 4
 },
 "nbformat": 4,
 "nbformat_minor": 2
}
